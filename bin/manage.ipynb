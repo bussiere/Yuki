{
 "metadata": {
  "name": "manage"
 },
 "nbformat": 3,
 "nbformat_minor": 0,
 "worksheets": [
  {
   "cells": [
    {
     "cell_type": "code",
     "collapsed": false,
     "input": [
      "#!/usr/bin/env python\n",
      "import os\n",
      "import sys\n",
      "\n",
      "if __name__ == \"__main__\":\n",
      "    os.environ.setdefault(\"DJANGO_SETTINGS_MODULE\", \"settings\")\n",
      "\n",
      "    from django.core.management import execute_from_command_line\n",
      "\n",
      "    execute_from_command_line(sys.argv)"
     ],
     "language": "python",
     "metadata": {},
     "outputs": []
    }
   ],
   "metadata": {}
  }
 ]
}